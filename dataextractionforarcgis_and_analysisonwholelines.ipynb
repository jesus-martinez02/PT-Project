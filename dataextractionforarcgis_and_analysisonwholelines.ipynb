{
 "cells": [
  {
   "cell_type": "code",
   "execution_count": 47,
   "id": "dc4c43a7-f6a2-4d15-a763-ea2b777b96d3",
   "metadata": {},
   "outputs": [
    {
     "data": {
      "text/plain": [
       "<module 'data_acquisition' from 'C:\\\\Users\\\\Johanna\\\\Documents\\\\Schweden\\\\PublicTransportProject\\\\PT-Project\\\\data_acquisition.py'>"
      ]
     },
     "execution_count": 47,
     "metadata": {},
     "output_type": "execute_result"
    }
   ],
   "source": [
    "import pandas as pd\n",
    "import matplotlib.pyplot as plt\n",
    "import seaborn as sns\n",
    "import importlib\n",
    "import data_acquisition\n",
    "importlib.reload(data_acquisition)"
   ]
  },
  {
   "cell_type": "code",
   "execution_count": 49,
   "id": "7184cf70-e789-409e-9661-e014a7ea9e06",
   "metadata": {},
   "outputs": [
    {
     "name": "stderr",
     "output_type": "stream",
     "text": [
      "C:\\Users\\Johanna\\Documents\\Schweden\\PublicTransportProject\\PT-Project\\data_acquisition.py:71: SettingWithCopyWarning: \n",
      "A value is trying to be set on a copy of a slice from a DataFrame.\n",
      "Try using .loc[row_indexer,col_indexer] = value instead\n",
      "\n",
      "See the caveats in the documentation: https://pandas.pydata.org/pandas-docs/stable/user_guide/indexing.html#returning-a-view-versus-a-copy\n",
      "  df_annoying['stop_sequence_real'] = df_annoying.apply(\n",
      "C:\\Users\\Johanna\\Documents\\Schweden\\PublicTransportProject\\PT-Project\\data_acquisition.py:78: SettingWithCopyWarning: \n",
      "A value is trying to be set on a copy of a slice from a DataFrame.\n",
      "Try using .loc[row_indexer,col_indexer] = value instead\n",
      "\n",
      "See the caveats in the documentation: https://pandas.pydata.org/pandas-docs/stable/user_guide/indexing.html#returning-a-view-versus-a-copy\n",
      "  df_annoying['stop_headsign'] = df_annoying['stop_headsign'].apply(\n"
     ]
    },
    {
     "data": {
      "image/png": "[encoded data removed]",
      "text/plain": [
       "<Figure size 640x480 with 1 Axes>"
      ]
     },
     "metadata": {},
     "output_type": "display_data"
    },
    {
     "data": {
      "text/plain": [
       "2463"
      ]
     },
     "execution_count": 49,
     "metadata": {},
     "output_type": "execute_result"
    }
   ],
   "source": [
    "df = data_acquisition.my_read_df(\"full_dataset.csv\")\n",
    "sns.boxplot(x=df['travel_time'].dropna())\n",
    "plt.xlabel('Travel time (sec)')\n",
    "#plt.xlim(0,1000)\n",
    "#Inspection of the travel times\n",
    "plt.title('Boxplot of time differences')\n",
    "plt.show()\n",
    "df_outliers=df[df[\"travel_time\"]>1200]\n",
    "len(df_outliers)"
   ]
  },
  {
   "cell_type": "code",
   "execution_count": 50,
   "id": "26ed33b4-e049-48c5-ab2b-4faf1d337936",
   "metadata": {},
   "outputs": [
    {
     "data": {
      "text/plain": [
       "Index(['trip_id', 'stop_id', 'route_short_name', 'stop_name', 'stop_headsign',\n",
       "       'stop_sequence_real', 'arrival_time_real', 'departure_time_real',\n",
       "       'arrival_delay', 'departure_delay', 'departure_time_sched',\n",
       "       'arrival_time_sched', 'service_id', 'start_date', 'shape_dist_traveled',\n",
       "       'stop_lat', 'stop_lon', 'distance_between_stops', 'prev_departure_real',\n",
       "       'travel_time', 'speed', 'dwell_time'],\n",
       "      dtype='object')"
      ]
     },
     "execution_count": 50,
     "metadata": {},
     "output_type": "execute_result"
    }
   ],
   "source": [
    "df.columns"
   ]
  },
  {
   "cell_type": "code",
   "execution_count": 51,
   "id": "23e9fce4-de9e-47aa-a97a-53c76caa98ab",
   "metadata": {},
   "outputs": [],
   "source": [
    "df.loc[df['stop_headsign'] == \"Ruddammen\", 'destination'] = \"Ruddammen\"\n",
    "df.loc[df['stop_headsign'] == \"Hornsberg\", 'destination'] = \"Hornsberg\"\n",
    "df.loc[df['stop_headsign'] == \"Henriksdalsberget\", 'destination'] = \"Henriksdalsberget\"\n",
    "df.loc[df['stop_headsign'] == \"Karolinska institutet\", 'destination'] = \"Karolinska institutet\"\n",
    "#df.loc[df['stop_headsign'] == \"Hornsberg via Södersjukhuset\", 'destination'] = \"Hornsberg\"\n",
    "df.loc[df['stop_headsign'] == \"Sickla udde\", 'destination'] = \"Sickla udde\"\n",
    "#df.loc[df['stop_headsign'] == \"Sickla udde via Södersjukhuset\", 'destination'] = \"Sickla udde\""
   ]
  },
  {
   "cell_type": "code",
   "execution_count": 52,
   "id": "eb4a5b28-e8cd-4e4e-8962-cdb96159edb3",
   "metadata": {},
   "outputs": [
    {
     "data": {
      "text/plain": [
       "Index(['trip_id', 'stop_id', 'route_short_name', 'stop_name', 'stop_headsign',\n",
       "       'stop_sequence_real', 'arrival_time_real', 'departure_time_real',\n",
       "       'arrival_delay', 'departure_delay', 'departure_time_sched',\n",
       "       'arrival_time_sched', 'service_id', 'start_date', 'shape_dist_traveled',\n",
       "       'stop_lat', 'stop_lon', 'distance_between_stops', 'prev_departure_real',\n",
       "       'travel_time', 'speed', 'dwell_time', 'destination'],\n",
       "      dtype='object')"
      ]
     },
     "execution_count": 52,
     "metadata": {},
     "output_type": "execute_result"
    }
   ],
   "source": [
    "df.columns"
   ]
  },
  {
   "cell_type": "markdown",
   "id": "4037bba4-46ce-4453-8161-675004320e8f",
   "metadata": {},
   "source": [
    "# Export of coordinates for usage in ArcGIS"
   ]
  },
  {
   "cell_type": "code",
   "execution_count": 54,
   "id": "f2cd25a9-b161-45e7-bb15-f0ea81371ad4",
   "metadata": {},
   "outputs": [
    {
     "name": "stdout",
     "output_type": "stream",
     "text": [
      "143\n"
     ]
    }
   ],
   "source": [
    "df_coords = df[['route_short_name', 'destination', 'stop_sequence_real', 'stop_lat', 'stop_lon']].drop_duplicates()\n",
    "print(len(df_coords))\n",
    "#dupes = df_coords[df_coords.duplicated(subset=['route_short_name', 'stop_headsign', 'stop_sequence_sched'], keep=False)]\n",
    "#dupes = dupes.sort_values(['route_short_name', 'stop_headsign', 'stop_sequence_sched'])\n",
    "\n",
    "#dupes[['route_short_name', 'stop_headsign', 'stop_sequence_sched', 'stop_lat', 'stop_lon']]"
   ]
  },
  {
   "cell_type": "code",
   "execution_count": 55,
   "id": "fdd95081-2379-4908-b540-38fca71078d3",
   "metadata": {},
   "outputs": [],
   "source": [
    "df_coords[(df_coords['route_short_name']==61) & (df_coords['destination']==\"Hornsberg\")].sort_values(by='stop_sequence_real').to_csv(\"coordinates_61_Hornsberg.csv\", index=False, encoding='utf-8')\n"
   ]
  },
  {
   "cell_type": "code",
   "execution_count": 56,
   "id": "589aa9d6-99a2-4e7c-8c9d-beed4421c73e",
   "metadata": {},
   "outputs": [],
   "source": [
    "df_coords[(df_coords['route_short_name']==61) & (df_coords['destination']==\"Ruddammen\")].sort_values(by='stop_sequence_real').to_csv(\"coordinates_61_Ruddammen.csv\", index=False, encoding='utf-8')\n"
   ]
  },
  {
   "cell_type": "code",
   "execution_count": 57,
   "id": "5fabab5d-7409-4fd9-a5f1-bc19204bfc74",
   "metadata": {},
   "outputs": [],
   "source": [
    "df_coords[(df_coords['route_short_name']==53) & (df_coords['destination']==\"Henriksdalsberget\")].sort_values(by='stop_sequence_real').to_csv(\"coordinates_53_Heriksdalsberget.csv\", index=False, encoding='utf-8')\n"
   ]
  },
  {
   "cell_type": "code",
   "execution_count": 58,
   "id": "323f4f74-685e-4fa9-9315-b718d9cb568c",
   "metadata": {},
   "outputs": [],
   "source": [
    "df_coords[(df_coords['route_short_name']==53) & (df_coords['destination']==\"Karolinska institutet\")].sort_values(by='stop_sequence_real').to_csv(\"coordinates_53_Karolinska.csv\", index=False, encoding='utf-8')\n"
   ]
  },
  {
   "cell_type": "code",
   "execution_count": 63,
   "id": "f2bd156e-0061-4ab5-b7b3-2f163abb86bf",
   "metadata": {},
   "outputs": [],
   "source": [
    "df_coords[(df_coords['route_short_name']==74) & (df_coords['destination']==\"Hornsberg\")].sort_values(by='stop_sequence_real').to_csv(\"coordinates_74_Hornsberg.csv\", index=False, encoding='utf-8')\n"
   ]
  },
  {
   "cell_type": "code",
   "execution_count": 475,
   "id": "a850eb1a-f98e-48dd-9959-c022ea4a0e2d",
   "metadata": {},
   "outputs": [],
   "source": [
    "df_coords[(df_coords['route_short_name']==74) & (df_coords['destination']==\"Sickla udde\")].sort_values(by='stop_sequence_real').to_csv(\"coordinates_74_Sickla.csv\", index=False, encoding='utf-8')\n"
   ]
  },
  {
   "cell_type": "markdown",
   "id": "4ad2ebf4-11f4-4bfb-87fa-655a91d4012b",
   "metadata": {},
   "source": [
    "# Computation of average speed (peak hours) for usage in ArcGIS"
   ]
  },
  {
   "cell_type": "code",
   "execution_count": 70,
   "id": "769285e3-899a-4711-be85-2622202032d7",
   "metadata": {},
   "outputs": [
    {
     "data": {
      "image/png": "[encoded data removed]",
      "text/plain": [
       "<Figure size 640x480 with 1 Axes>"
      ]
     },
     "metadata": {},
     "output_type": "display_data"
    },
    {
     "name": "stdout",
     "output_type": "stream",
     "text": [
      "66710\n"
     ]
    },
    {
     "data": {
      "text/plain": [
       "2535"
      ]
     },
     "execution_count": 70,
     "metadata": {},
     "output_type": "execute_result"
    }
   ],
   "source": [
    "sns.boxplot(x=df['speed'].dropna())\n",
    "plt.xlabel('speed (km)')\n",
    "#plt.xlim(0,1000)\n",
    "plt.title('Boxplot of time differences')\n",
    "plt.show()\n",
    "df_outliers_speed = df[(abs(df[\"speed\"]) > 100) | (df[\"speed\"] < 0)]\n",
    "print(len(df))\n",
    "len(df_outliers_speed)"
   ]
  },
  {
   "cell_type": "code",
   "execution_count": 72,
   "id": "cf109c16-f5b0-401e-9091-7e110ff08f18",
   "metadata": {},
   "outputs": [
    {
     "data": {
      "text/plain": [
       "63776"
      ]
     },
     "execution_count": 72,
     "metadata": {},
     "output_type": "execute_result"
    }
   ],
   "source": [
    "df_speed=df[(abs(df[\"speed\"]) <= 100) & (df[\"speed\"] >= 0)]\n",
    "len(df_speed)"
   ]
  },
  {
   "cell_type": "code",
   "execution_count": 74,
   "id": "ef701067-560b-4292-8c6d-234731c25364",
   "metadata": {},
   "outputs": [
    {
     "data": {
      "image/png": "[encoded data removed]",
      "text/plain": [
       "<Figure size 640x480 with 1 Axes>"
      ]
     },
     "metadata": {},
     "output_type": "display_data"
    }
   ],
   "source": [
    "sns.boxplot(x=df_speed['arrival_delay'].dropna())\n",
    "plt.xlabel('arrivaldelay')\n",
    "#plt.xlim(0,1000)\n",
    "plt.title('Boxplot of time differences')\n",
    "plt.show()\n",
    "#df_outliers_speed = df[(abs(df[\"arrival_delay\"]) > 1000) | (df[\"speed\"] < 0)]\n",
    "#print(len(df))\n",
    "#len(df_outliers_speed)"
   ]
  },
  {
   "cell_type": "code",
   "execution_count": 76,
   "id": "d8bc38db-e729-4c6a-ab97-560b50ff3110",
   "metadata": {},
   "outputs": [
    {
     "name": "stdout",
     "output_type": "stream",
     "text": [
      "137\n"
     ]
    },
    {
     "data": {
      "text/html": [
       "<div>\n",
       "<style scoped>\n",
       "    .dataframe tbody tr th:only-of-type {\n",
       "        vertical-align: middle;\n",
       "    }\n",
       "\n",
       "    .dataframe tbody tr th {\n",
       "        vertical-align: top;\n",
       "    }\n",
       "\n",
       "    .dataframe thead th {\n",
       "        text-align: right;\n",
       "    }\n",
       "</style>\n",
       "<table border=\"1\" class=\"dataframe\">\n",
       "  <thead>\n",
       "    <tr style=\"text-align: right;\">\n",
       "      <th></th>\n",
       "      <th>route_short_name</th>\n",
       "      <th>destination</th>\n",
       "      <th>stop_sequence_real</th>\n",
       "      <th>average_speed</th>\n",
       "      <th>average_speed_7-9</th>\n",
       "      <th>average_speed_79_1518</th>\n",
       "      <th>average_speed_non_79</th>\n",
       "      <th>average_speed_non79_1518</th>\n",
       "      <th>average_arrivaldelay</th>\n",
       "      <th>average_arrivaldelay_79_1518</th>\n",
       "    </tr>\n",
       "  </thead>\n",
       "  <tbody>\n",
       "    <tr>\n",
       "      <th>0</th>\n",
       "      <td>74</td>\n",
       "      <td>Sickla udde</td>\n",
       "      <td>2</td>\n",
       "      <td>14.555448</td>\n",
       "      <td>14.258215</td>\n",
       "      <td>14.180123</td>\n",
       "      <td>14.555448</td>\n",
       "      <td>14.924412</td>\n",
       "      <td>5.794872</td>\n",
       "      <td>16.491379</td>\n",
       "    </tr>\n",
       "    <tr>\n",
       "      <th>1</th>\n",
       "      <td>74</td>\n",
       "      <td>Sickla udde</td>\n",
       "      <td>3</td>\n",
       "      <td>15.469889</td>\n",
       "      <td>14.901255</td>\n",
       "      <td>13.943488</td>\n",
       "      <td>15.469889</td>\n",
       "      <td>16.976886</td>\n",
       "      <td>53.641791</td>\n",
       "      <td>76.287554</td>\n",
       "    </tr>\n",
       "    <tr>\n",
       "      <th>2</th>\n",
       "      <td>74</td>\n",
       "      <td>Sickla udde</td>\n",
       "      <td>4</td>\n",
       "      <td>15.663507</td>\n",
       "      <td>14.690472</td>\n",
       "      <td>14.736902</td>\n",
       "      <td>15.663507</td>\n",
       "      <td>16.551503</td>\n",
       "      <td>63.195745</td>\n",
       "      <td>86.886957</td>\n",
       "    </tr>\n",
       "    <tr>\n",
       "      <th>3</th>\n",
       "      <td>74</td>\n",
       "      <td>Sickla udde</td>\n",
       "      <td>5</td>\n",
       "      <td>17.504942</td>\n",
       "      <td>16.839161</td>\n",
       "      <td>16.870599</td>\n",
       "      <td>17.504942</td>\n",
       "      <td>18.063467</td>\n",
       "      <td>59.127119</td>\n",
       "      <td>83.262443</td>\n",
       "    </tr>\n",
       "    <tr>\n",
       "      <th>4</th>\n",
       "      <td>74</td>\n",
       "      <td>Sickla udde</td>\n",
       "      <td>6</td>\n",
       "      <td>38.023414</td>\n",
       "      <td>37.527023</td>\n",
       "      <td>37.436690</td>\n",
       "      <td>38.023414</td>\n",
       "      <td>38.533609</td>\n",
       "      <td>92.919662</td>\n",
       "      <td>118.727273</td>\n",
       "    </tr>\n",
       "  </tbody>\n",
       "</table>\n",
       "</div>"
      ],
      "text/plain": [
       "   route_short_name  destination  stop_sequence_real  average_speed  \\\n",
       "0                74  Sickla udde                   2      14.555448   \n",
       "1                74  Sickla udde                   3      15.469889   \n",
       "2                74  Sickla udde                   4      15.663507   \n",
       "3                74  Sickla udde                   5      17.504942   \n",
       "4                74  Sickla udde                   6      38.023414   \n",
       "\n",
       "   average_speed_7-9  average_speed_79_1518  average_speed_non_79  \\\n",
       "0          14.258215              14.180123             14.555448   \n",
       "1          14.901255              13.943488             15.469889   \n",
       "2          14.690472              14.736902             15.663507   \n",
       "3          16.839161              16.870599             17.504942   \n",
       "4          37.527023              37.436690             38.023414   \n",
       "\n",
       "   average_speed_non79_1518  average_arrivaldelay  \\\n",
       "0                 14.924412              5.794872   \n",
       "1                 16.976886             53.641791   \n",
       "2                 16.551503             63.195745   \n",
       "3                 18.063467             59.127119   \n",
       "4                 38.533609             92.919662   \n",
       "\n",
       "   average_arrivaldelay_79_1518  \n",
       "0                     16.491379  \n",
       "1                     76.287554  \n",
       "2                     86.886957  \n",
       "3                     83.262443  \n",
       "4                    118.727273  "
      ]
     },
     "execution_count": 76,
     "metadata": {},
     "output_type": "execute_result"
    }
   ],
   "source": [
    "df_average=pd.DataFrame(columns=['route_short_name', 'destination', 'stop_sequence_real', 'average_speed', 'average_speed_7-9', 'average_speed_79_1518', 'average_speed_non_79','average_speed_non79_1518','average_arrivaldelay', 'average_arrivaldelay_79_1518'])\n",
    "for line in df_speed['route_short_name'].unique():\n",
    "  for dest in df_speed['destination'].unique():\n",
    "    if df_speed.loc[(df_speed['route_short_name']==line)&(df_speed['destination']==dest)].empty :\n",
    "      continue\n",
    "    d=[] #average speed whole day\n",
    "    e=[] #average speed 7-9\n",
    "    f=[] #average speed 7-9 and 15-18\n",
    "    g=[] #average speed non-peak (non 7-9)\n",
    "    h=[] #average speed non-peak (non 7-9, non 15-18)\n",
    "    i=[]#arrival delay (whole day)\n",
    "    j=[]#arrival delay (7-9 and 15-18'\n",
    "    for stop in sorted(df_speed.loc[(df_speed['route_short_name']==line) & (df_speed['destination']==dest)]['stop_sequence_real'].unique()):\n",
    "        d=df_speed.loc[(df_speed['stop_sequence_real']==stop) & (df_speed['route_short_name']==line) & (df_speed['destination']==dest) ]['speed'].values\n",
    "        e=df_speed.loc[(df_speed['stop_sequence_real']==stop) & (df_speed['route_short_name']==line) & (df_speed['destination']==dest) &(df['arrival_time_real'].dt.hour >= 7) &(df['arrival_time_real'].dt.hour <9)]['speed'].values\n",
    "        f=df_speed.loc[(df_speed['stop_sequence_real']==stop) & (df_speed['route_short_name']==line) & (df_speed['destination']==dest) &(((df['arrival_time_real'].dt.hour >= 7) &(df['arrival_time_real'].dt.hour <9))|((df['arrival_time_real'].dt.hour >= 15) &(df['arrival_time_real'].dt.hour <18)))]['speed'].values\n",
    "        g=df_speed.loc[(df_speed['stop_sequence_real']==stop) & (df_speed['route_short_name']==line) & (df_speed['destination']==dest) &~((df['arrival_time_real'].dt.hour < 7) &(df['arrival_time_real'].dt.hour >=9))]['speed'].values\n",
    "        h=df_speed.loc[(df_speed['stop_sequence_real']==stop) & (df_speed['route_short_name']==line) & (df_speed['destination']==dest) &~(((df['arrival_time_real'].dt.hour >= 7) &(df['arrival_time_real'].dt.hour <9))|((df['arrival_time_real'].dt.hour >= 15) &(df['arrival_time_real'].dt.hour <18)))]['speed'].values\n",
    "        i=df_speed.loc[(df_speed['stop_sequence_real']==stop) & (df_speed['route_short_name']==line) & (df_speed['destination']==dest) ]['arrival_delay'].values\n",
    "        j=df_speed.loc[(df_speed['stop_sequence_real']==stop) & (df_speed['route_short_name']==line) & (df_speed['destination']==dest) &(((df['arrival_time_real'].dt.hour >= 7) &(df['arrival_time_real'].dt.hour <9))|((df['arrival_time_real'].dt.hour >= 15) &(df['arrival_time_real'].dt.hour <18)))]['arrival_delay'].values       \n",
    "        average_speed = pd.Series(d).mean()\n",
    "        average_speed_79=pd.Series(e).mean()\n",
    "        average_speed_79_1518=pd.Series(f).mean()\n",
    "        average_speed_non_79=pd.Series(g).mean()\n",
    "        average_speed_non_79_1518=pd.Series(h).mean()\n",
    "        average_arrivaldelay=pd.Series(i).mean()\n",
    "        average_arrivaldelay_79_1518=pd.Series(j).mean()\n",
    "        df_average.loc[len(df_average)] = [line, dest, stop, average_speed, average_speed_79, average_speed_79_1518, average_speed_non_79, average_speed_non_79_1518, average_arrivaldelay,average_arrivaldelay_79_1518]\n",
    "print(len(df_average))\n",
    "df_average.head()"
   ]
  },
  {
   "cell_type": "code",
   "execution_count": 77,
   "id": "e50ec240-70fc-4408-9926-b803e3e7a263",
   "metadata": {},
   "outputs": [
    {
     "data": {
      "text/plain": [
       "137"
      ]
     },
     "execution_count": 77,
     "metadata": {},
     "output_type": "execute_result"
    }
   ],
   "source": [
    "len(df_average)"
   ]
  },
  {
   "cell_type": "code",
   "execution_count": 82,
   "id": "136db185-1498-46ca-abd5-6429332c04b3",
   "metadata": {},
   "outputs": [],
   "source": [
    "df_average[(df_average['route_short_name']==74) & (df_average['destination']==\"Sickla udde\")].sort_values(by='stop_sequence_real').to_csv(\"average_speed_74_Sickla.csv\", index=False, encoding='utf-8')\n"
   ]
  },
  {
   "cell_type": "code",
   "execution_count": 80,
   "id": "083560f6-a45b-4f91-a761-38a2d6868206",
   "metadata": {},
   "outputs": [],
   "source": [
    "df_average[(df_average['route_short_name']==74) & (df_average['destination']==\"Hornsberg\")].sort_values(by='stop_sequence_real').to_csv(\"average_speed_74_Hornsberg.csv\", index=False, encoding='utf-8')\n"
   ]
  },
  {
   "cell_type": "code",
   "execution_count": 84,
   "id": "df998aa0-50e1-4967-902f-259a8d2af0e7",
   "metadata": {},
   "outputs": [],
   "source": [
    "df_average[(df_average['route_short_name']==53) & (df_average['destination']==\"Karolinska institutet\")].sort_values(by='stop_sequence_real').to_csv(\"average_speed_53_Karolinska.csv\", index=False, encoding='utf-8')\n"
   ]
  },
  {
   "cell_type": "code",
   "execution_count": 86,
   "id": "09af4374-197a-4efc-bc9d-b74b1431492e",
   "metadata": {},
   "outputs": [],
   "source": [
    "df_average[(df_average['route_short_name']==53) & (df_average['destination']==\"Henriksdalsberget\")].sort_values(by='stop_sequence_real').to_csv(\"average_speed_53_Henriksdalsberget.csv\", index=False, encoding='utf-8')\n"
   ]
  },
  {
   "cell_type": "code",
   "execution_count": 90,
   "id": "a16b3b25-e14b-4589-b68a-4e9835a83bfd",
   "metadata": {},
   "outputs": [],
   "source": [
    "df_average[(df_average['route_short_name']==61) & (df_average['destination']==\"Ruddammen\")].sort_values(by='stop_sequence_real').to_csv(\"average_speed_61_Ruddammen.csv\", index=False, encoding='utf-8')\n"
   ]
  },
  {
   "cell_type": "code",
   "execution_count": 92,
   "id": "26053fb1-d767-42c1-b17e-f087d31b202d",
   "metadata": {},
   "outputs": [],
   "source": [
    "df_average[(df_average['route_short_name']==61) & (df_average['destination']==\"Hornsberg\")].sort_values(by='stop_sequence_real').to_csv(\"average_speed_61_Hornsberg.csv\", index=False, encoding='utf-8')\n"
   ]
  },
  {
   "cell_type": "code",
   "execution_count": 15,
   "id": "c9ccb388-ea6d-444c-8813-e7ec13faaf0a",
   "metadata": {},
   "outputs": [],
   "source": [
    "df_name=df[['route_short_name', 'destination', 'stop_sequence_real', 'stop_name']].drop_duplicates()"
   ]
  },
  {
   "cell_type": "code",
   "execution_count": 17,
   "id": "51c0f458-ad7c-4fc7-b756-16a03ffe4c9b",
   "metadata": {},
   "outputs": [],
   "source": [
    "df_name[(df_name['route_short_name']==53) & (df_name['destination']==\"Henriksdalsberget\")].sort_values(by='stop_sequence_real').to_csv(\"busstop_names_53_Heriksdalsberget.csv\", index=False, encoding='utf-8')\n"
   ]
  },
  {
   "cell_type": "markdown",
   "id": "054caf9d-e136-4cd1-8136-62b8c01db627",
   "metadata": {},
   "source": [
    "# Analysis on whole lines"
   ]
  },
  {
   "cell_type": "code",
   "execution_count": 80,
   "id": "38b56338-9f1c-4b5d-a11f-3043f2368e2a",
   "metadata": {},
   "outputs": [
    {
     "name": "stdout",
     "output_type": "stream",
     "text": [
      "                                        total_segments  above_avg_speed  \\\n",
      "route_short_name destination                                              \n",
      "53               Henriksdalsberget                  21                9   \n",
      "                 Karolinska institutet              21                7   \n",
      "61               Hornsberg                          26               11   \n",
      "                 Ruddammen                          28                8   \n",
      "74               Hornsberg                          20               10   \n",
      "                 Sickla udde                        21               11   \n",
      "\n",
      "                                        above_avg_speed_79_1518  \\\n",
      "route_short_name destination                                      \n",
      "53               Henriksdalsberget                            9   \n",
      "                 Karolinska institutet                        6   \n",
      "61               Hornsberg                                   11   \n",
      "                 Ruddammen                                    9   \n",
      "74               Hornsberg                                   12   \n",
      "                 Sickla udde                                 11   \n",
      "\n",
      "                                        above_avg_arrivaldelay  \\\n",
      "route_short_name destination                                     \n",
      "53               Henriksdalsberget                           9   \n",
      "                 Karolinska institutet                       3   \n",
      "61               Hornsberg                                  11   \n",
      "                 Ruddammen                                  23   \n",
      "74               Hornsberg                                  17   \n",
      "                 Sickla udde                                13   \n",
      "\n",
      "                                        above_avg_arrivaldelay_79_1518  \\\n",
      "route_short_name destination                                             \n",
      "53               Henriksdalsberget                                   6   \n",
      "                 Karolinska institutet                               3   \n",
      "61               Hornsberg                                          12   \n",
      "                 Ruddammen                                          27   \n",
      "74               Hornsberg                                          17   \n",
      "                 Sickla udde                                         9   \n",
      "\n",
      "                                        percent_above_avg_speed  \\\n",
      "route_short_name destination                                      \n",
      "53               Henriksdalsberget                    42.857143   \n",
      "                 Karolinska institutet                33.333333   \n",
      "61               Hornsberg                            42.307692   \n",
      "                 Ruddammen                            28.571429   \n",
      "74               Hornsberg                            50.000000   \n",
      "                 Sickla udde                          52.380952   \n",
      "\n",
      "                                        percent_above_avg_speed_79_1518  \\\n",
      "route_short_name destination                                              \n",
      "53               Henriksdalsberget                            42.857143   \n",
      "                 Karolinska institutet                        28.571429   \n",
      "61               Hornsberg                                    42.307692   \n",
      "                 Ruddammen                                    32.142857   \n",
      "74               Hornsberg                                    60.000000   \n",
      "                 Sickla udde                                  52.380952   \n",
      "\n",
      "                                        percent_above_avg_arrivaldelay  \\\n",
      "route_short_name destination                                             \n",
      "53               Henriksdalsberget                           42.857143   \n",
      "                 Karolinska institutet                       14.285714   \n",
      "61               Hornsberg                                   42.307692   \n",
      "                 Ruddammen                                   82.142857   \n",
      "74               Hornsberg                                   85.000000   \n",
      "                 Sickla udde                                 61.904762   \n",
      "\n",
      "                                        percent_above_avg_arrivaldelay_79_1518  \\\n",
      "route_short_name destination                                                     \n",
      "53               Henriksdalsberget                                   28.571429   \n",
      "                 Karolinska institutet                               14.285714   \n",
      "61               Hornsberg                                           46.153846   \n",
      "                 Ruddammen                                           96.428571   \n",
      "74               Hornsberg                                           85.000000   \n",
      "                 Sickla udde                                         42.857143   \n",
      "\n",
      "                                        percentage_row  \n",
      "route_short_name destination                            \n",
      "53               Henriksdalsberget                  28  \n",
      "                 Karolinska institutet              30  \n",
      "61               Hornsberg                          24  \n",
      "                 Ruddammen                          26  \n",
      "74               Hornsberg                          44  \n",
      "                 Sickla udde                        42  \n"
     ]
    }
   ],
   "source": [
    "#this  first part of the analysis on whole lines was later considered not interesting enough (cannot be found in the report)\n",
    "overall_avg_speed=df_average.groupby(['route_short_name', 'destination'])['average_speed'].mean().mean()\n",
    "overall_avg_speed_79_1518=df_average.groupby(['route_short_name', 'destination'])['average_speed_79_1518'].mean().mean()\n",
    "overall_avg_arrivaldelay=df_average.groupby(['route_short_name', 'destination'])['average_arrivaldelay'].mean().mean()\n",
    "overall_avg_arrivaldelay_79_1518=df_average.groupby(['route_short_name', 'destination'])['average_arrivaldelay_79_1518'].mean().mean()\n",
    "\n",
    "#print(overall_avg_speed)\n",
    "summary = df_average.groupby(['route_short_name', 'destination']).agg(\n",
    "    total_segments=('average_speed', 'count'),\n",
    "    above_avg_speed=('average_speed', lambda x: (x > overall_avg_speed).sum()),\n",
    "    above_avg_speed_79_1518=('average_speed_79_1518', lambda x: (x > overall_avg_speed_79_1518).sum()),\n",
    "    above_avg_arrivaldelay=('average_arrivaldelay', lambda x: (x < overall_avg_arrivaldelay).sum()),\n",
    "    above_avg_arrivaldelay_79_1518=('average_arrivaldelay_79_1518', lambda x: (x < overall_avg_arrivaldelay_79_1518).sum())\n",
    ")\n",
    "\n",
    "summary['percent_above_avg_speed'] = (summary['above_avg_speed'] / summary['total_segments']) * 100\n",
    "summary['percent_above_avg_speed_79_1518'] = (summary['above_avg_speed_79_1518'] / summary['total_segments']) * 100\n",
    "summary['percent_above_avg_arrivaldelay'] = (summary['above_avg_arrivaldelay'] / summary['total_segments']) * 100\n",
    "summary['percent_above_avg_arrivaldelay_79_1518'] = (summary['above_avg_arrivaldelay_79_1518'] / summary['total_segments']) * 100\n",
    "\n",
    "\n",
    "summary['percentage_row'] = [28, 30,24,26,44,42]\n",
    "print(summary)"
   ]
  },
  {
   "cell_type": "code",
   "execution_count": 82,
   "id": "b2e1962b-750b-47da-9aa8-5dd79d0ff3ca",
   "metadata": {
    "scrolled": true
   },
   "outputs": [
    {
     "name": "stdout",
     "output_type": "stream",
     "text": [
      "                                        total  total_79_1518  \\\n",
      "route_short_name destination                                   \n",
      "53               Henriksdalsberget        450            143   \n",
      "                 Karolinska institutet    448            145   \n",
      "61               Hornsberg                490            173   \n",
      "                 Ruddammen                489            168   \n",
      "74               Hornsberg                466            210   \n",
      "                 Sickla udde              475            203   \n",
      "\n",
      "                                        reliable_79_1518  reliable        PIR  \\\n",
      "route_short_name destination                                                    \n",
      "53               Henriksdalsberget                   116       379  84.222222   \n",
      "                 Karolinska institutet               107       369  82.366071   \n",
      "61               Hornsberg                           169       476  97.142857   \n",
      "                 Ruddammen                           162       471  96.319018   \n",
      "74               Hornsberg                           208       459  98.497854   \n",
      "                 Sickla udde                         189       448  94.315789   \n",
      "\n",
      "                                        PIR_79_1518  \n",
      "route_short_name destination                         \n",
      "53               Henriksdalsberget        81.118881  \n",
      "                 Karolinska institutet    73.793103  \n",
      "61               Hornsberg                97.687861  \n",
      "                 Ruddammen                96.428571  \n",
      "74               Hornsberg                99.047619  \n",
      "                 Sickla udde              93.103448  \n"
     ]
    }
   ],
   "source": [
    "#PIR computation \n",
    "\n",
    "tolerance = 180\n",
    "last_stops_df = df_coords.loc[\n",
    "    df_coords.groupby(['route_short_name', 'destination'])['stop_sequence_real'].idxmax(),\n",
    "    ['route_short_name', 'destination', 'stop_sequence_real']\n",
    "]\n",
    "df_last = df.merge(last_stops_df, on=['route_short_name', 'destination', 'stop_sequence_real'])\n",
    "#print(df_last.head())\n",
    "\n",
    "summary_PIR = df_last.groupby(['route_short_name', 'destination']).agg(\n",
    "        total=('arrival_delay', 'count'),\n",
    "         total_79_1518=('arrival_delay', lambda x: (((df_last.loc[x.index, 'arrival_time_real'].dt.hour >= 7) & (df_last.loc[x.index, 'arrival_time_real'].dt.hour < 9)) |\n",
    "                                               ((df_last.loc[x.index, 'arrival_time_real'].dt.hour >= 15) & (df_last.loc[x.index, 'arrival_time_real'].dt.hour < 18))).sum()),\n",
    "        reliable_79_1518=('arrival_delay', lambda x: (x[((df_last['arrival_time_real'].dt.hour >= 7) & (df_last['arrival_time_real'].dt.hour < 9)) | ((df_last['arrival_time_real'].dt.hour >= 15) & (df_last['arrival_time_real'].dt.hour < 18))] < tolerance).sum()),\n",
    "        reliable=('arrival_delay', lambda x: (x < tolerance).sum())\n",
    "    )\n",
    "\n",
    "summary_PIR['PIR'] = (summary_PIR['reliable'] / summary_PIR['total']) * 100\n",
    "summary_PIR['PIR_79_1518']=(summary_PIR['reliable_79_1518'] / summary_PIR['total_79_1518']) * 100\n",
    "\n",
    "print(summary_PIR)"
   ]
  },
  {
   "cell_type": "code",
   "execution_count": 84,
   "id": "8f66ca0b-2fbe-458c-89c0-3f6135cd5455",
   "metadata": {},
   "outputs": [],
   "source": [
    "merged_summary = pd.merge(summary_PIR, summary, on=['route_short_name', 'destination'], how='inner')"
   ]
  },
  {
   "cell_type": "code",
   "execution_count": 86,
   "id": "269ad62d-b067-4412-9d34-029074c3b13b",
   "metadata": {},
   "outputs": [
    {
     "data": {
      "image/png": "[encoded data removed]",
      "text/plain": [
       "<Figure size 1200x600 with 1 Axes>"
      ]
     },
     "metadata": {},
     "output_type": "display_data"
    }
   ],
   "source": [
    "#figure not in the report\n",
    "df_plot = merged_summary.reset_index()\n",
    "cols_to_plot = [\n",
    "    'percentage_row',\n",
    "    #'PIR_79_1518',\n",
    "    'percent_above_avg_speed_79_1518',\n",
    "    'percent_above_avg_arrivaldelay_79_1518'\n",
    "]\n",
    "\n",
    "\n",
    "pretty_names = {\n",
    "    'percentage_row': 'ROW (%)',\n",
    "    #'PIR_79_1518': 'PIR (%)',\n",
    "    'percent_above_avg_speed_79_1518': 'segments with speed above average (7–9/15–18) (%)',\n",
    "    'percent_above_avg_arrivaldelay_79_1518': 'segments with delay below average (7–9/15–18) (%)'\n",
    "}\n",
    "\n",
    "\n",
    "df_melted = df_plot.melt(\n",
    "    id_vars=['route_short_name', 'destination'],\n",
    "    value_vars=cols_to_plot,\n",
    "    var_name='Metric',\n",
    "    value_name='Percentage'\n",
    ")\n",
    "df_melted['Metric'] = df_melted['Metric'].map(pretty_names)\n",
    "df_melted['Line'] = df_melted['route_short_name'].astype(str) + ' - ' + df_melted['destination']\n",
    "\n",
    "# Plot\n",
    "plt.figure(figsize=(12,6))\n",
    "sns.barplot(data=df_melted, x='Line', y='Percentage', hue='Metric')\n",
    "plt.title(\"Performance per Bus Line and Direction\")\n",
    "plt.xticks(rotation=45, ha='right')\n",
    "plt.ylabel(\"Percentage\")\n",
    "plt.xlabel(\"Line - Destination\")\n",
    "plt.legend(title=\"Legend\")\n",
    "plt.tight_layout()\n",
    "plt.show()\n"
   ]
  },
  {
   "cell_type": "code",
   "execution_count": null,
   "id": "0b4acb42-9589-4135-973e-199b984af29d",
   "metadata": {},
   "outputs": [],
   "source": []
  }
 ],
 "metadata": {
  "kernelspec": {
   "display_name": "Python 3 (ipykernel)",
   "language": "python",
   "name": "python3"
  },
  "language_info": {
   "codemirror_mode": {
    "name": "ipython",
    "version": 3
   },
   "file_extension": ".py",
   "mimetype": "text/x-python",
   "name": "python",
   "nbconvert_exporter": "python",
   "pygments_lexer": "ipython3",
   "version": "3.12.4"
  }
 },
 "nbformat": 4,
 "nbformat_minor": 5
}
